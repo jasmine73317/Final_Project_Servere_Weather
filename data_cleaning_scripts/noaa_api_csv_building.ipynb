{
 "cells": [
  {
   "cell_type": "code",
   "execution_count": 51,
   "metadata": {},
   "outputs": [],
   "source": [
    "import pandas as pd\n",
    "import os\n",
    "import requests"
   ]
  },
  {
   "cell_type": "code",
   "execution_count": 78,
   "metadata": {},
   "outputs": [],
   "source": [
    "loc_zip = 90210\n",
    "s_yyyy_mm_dd = 2010_08_10\n",
    "e_yyyy_mm_dd = 2010_08_11\n",
    "token = 'EaSqdovIuswduTeShavghpLuwNQyXTMV'\n",
    "headers = {\"token\" : token}\n",
    "\n",
    "api_url = f'https://www.ncdc.noaa.gov/cdo-web/api/v2/data?datasetid=GHCND&locationid=ZIP:{loc_zip}&units=metric&startdate={s_yyyy_mm_dd}&enddate={e_yyyy_mm_dd}'"
   ]
  },
  {
   "cell_type": "code",
   "execution_count": 79,
   "metadata": {},
   "outputs": [
    {
     "data": {
      "text/plain": [
       "{'metadata': {'resultset': {'offset': 1, 'count': 6, 'limit': 25}},\n",
       " 'results': [{'date': '2010-08-10T00:00:00',\n",
       "   'datatype': 'TAVG',\n",
       "   'station': 'GHCND:USR0000CBEV',\n",
       "   'attributes': ',,U,',\n",
       "   'value': 18.5},\n",
       "  {'date': '2010-08-10T00:00:00',\n",
       "   'datatype': 'TMAX',\n",
       "   'station': 'GHCND:USR0000CBEV',\n",
       "   'attributes': 'H,,U,',\n",
       "   'value': 29.4},\n",
       "  {'date': '2010-08-10T00:00:00',\n",
       "   'datatype': 'TMIN',\n",
       "   'station': 'GHCND:USR0000CBEV',\n",
       "   'attributes': 'H,,U,',\n",
       "   'value': 10.6},\n",
       "  {'date': '2010-08-11T00:00:00',\n",
       "   'datatype': 'TAVG',\n",
       "   'station': 'GHCND:USR0000CBEV',\n",
       "   'attributes': ',,U,',\n",
       "   'value': 18.4},\n",
       "  {'date': '2010-08-11T00:00:00',\n",
       "   'datatype': 'TMAX',\n",
       "   'station': 'GHCND:USR0000CBEV',\n",
       "   'attributes': 'H,,U,',\n",
       "   'value': 29.4},\n",
       "  {'date': '2010-08-11T00:00:00',\n",
       "   'datatype': 'TMIN',\n",
       "   'station': 'GHCND:USR0000CBEV',\n",
       "   'attributes': 'H,,U,',\n",
       "   'value': 11.7}]}"
      ]
     },
     "execution_count": 79,
     "metadata": {},
     "output_type": "execute_result"
    }
   ],
   "source": [
    "response = requests.get(api_url, headers=headers).json()\n",
    "response"
   ]
  },
  {
   "cell_type": "code",
   "execution_count": 76,
   "metadata": {},
   "outputs": [
    {
     "data": {
      "text/plain": [
       "{'metadata': {'resultset': {'offset': 1, 'count': 6, 'limit': 25}},\n",
       " 'results': [{'date': '2010-08-10T00:00:00',\n",
       "   'datatype': 'TAVG',\n",
       "   'station': 'GHCND:USR0000CBEV',\n",
       "   'attributes': ',,U,',\n",
       "   'value': 18.5},\n",
       "  {'date': '2010-08-10T00:00:00',\n",
       "   'datatype': 'TMAX',\n",
       "   'station': 'GHCND:USR0000CBEV',\n",
       "   'attributes': 'H,,U,',\n",
       "   'value': 29.4},\n",
       "  {'date': '2010-08-10T00:00:00',\n",
       "   'datatype': 'TMIN',\n",
       "   'station': 'GHCND:USR0000CBEV',\n",
       "   'attributes': 'H,,U,',\n",
       "   'value': 10.6},\n",
       "  {'date': '2010-08-11T00:00:00',\n",
       "   'datatype': 'TAVG',\n",
       "   'station': 'GHCND:USR0000CBEV',\n",
       "   'attributes': ',,U,',\n",
       "   'value': 18.4},\n",
       "  {'date': '2010-08-11T00:00:00',\n",
       "   'datatype': 'TMAX',\n",
       "   'station': 'GHCND:USR0000CBEV',\n",
       "   'attributes': 'H,,U,',\n",
       "   'value': 29.4},\n",
       "  {'date': '2010-08-11T00:00:00',\n",
       "   'datatype': 'TMIN',\n",
       "   'station': 'GHCND:USR0000CBEV',\n",
       "   'attributes': 'H,,U,',\n",
       "   'value': 11.7}]}"
      ]
     },
     "execution_count": 76,
     "metadata": {},
     "output_type": "execute_result"
    }
   ],
   "source": []
  },
  {
   "cell_type": "code",
   "execution_count": 75,
   "metadata": {},
   "outputs": [
    {
     "data": {
      "text/plain": [
       "{'metadata': {'resultset': {'offset': 1, 'count': 6, 'limit': 25}},\n",
       " 'results': [{'date': '2010-08-10T00:00:00',\n",
       "   'datatype': 'TAVG',\n",
       "   'station': 'GHCND:USR0000CBEV',\n",
       "   'attributes': ',,U,',\n",
       "   'value': 18.5},\n",
       "  {'date': '2010-08-10T00:00:00',\n",
       "   'datatype': 'TMAX',\n",
       "   'station': 'GHCND:USR0000CBEV',\n",
       "   'attributes': 'H,,U,',\n",
       "   'value': 29.4},\n",
       "  {'date': '2010-08-10T00:00:00',\n",
       "   'datatype': 'TMIN',\n",
       "   'station': 'GHCND:USR0000CBEV',\n",
       "   'attributes': 'H,,U,',\n",
       "   'value': 10.6},\n",
       "  {'date': '2010-08-11T00:00:00',\n",
       "   'datatype': 'TAVG',\n",
       "   'station': 'GHCND:USR0000CBEV',\n",
       "   'attributes': ',,U,',\n",
       "   'value': 18.4},\n",
       "  {'date': '2010-08-11T00:00:00',\n",
       "   'datatype': 'TMAX',\n",
       "   'station': 'GHCND:USR0000CBEV',\n",
       "   'attributes': 'H,,U,',\n",
       "   'value': 29.4},\n",
       "  {'date': '2010-08-11T00:00:00',\n",
       "   'datatype': 'TMIN',\n",
       "   'station': 'GHCND:USR0000CBEV',\n",
       "   'attributes': 'H,,U,',\n",
       "   'value': 11.7}]}"
      ]
     },
     "execution_count": 75,
     "metadata": {},
     "output_type": "execute_result"
    }
   ],
   "source": [
    "headers = {\"token\" : token}\n",
    "response = requests.get(api_url, headers=headers).json()\n",
    "response"
   ]
  },
  {
   "cell_type": "code",
   "execution_count": 71,
   "metadata": {},
   "outputs": [
    {
     "data": {
      "text/plain": [
       "{'metadata': {'resultset': {'offset': 1, 'count': 11, 'limit': 25}},\n",
       " 'results': [{'name': 'Computed', 'id': 'COMP'},\n",
       "  {'name': 'Dual-Pol Moments', 'id': 'DUALPOLMOMENT'},\n",
       "  {'name': 'Echo Tops', 'id': 'ECHOTOP'},\n",
       "  {'name': 'Hydrometeor Type', 'id': 'HYDROMETEOR'},\n",
       "  {'name': 'Other', 'id': 'OTHER'},\n",
       "  {'name': 'Overlay', 'id': 'OVERLAY'},\n",
       "  {'name': 'Precipitation', 'id': 'PRCP'},\n",
       "  {'name': 'Reflectivity', 'id': 'REFLECTIVITY'},\n",
       "  {'name': 'Air Temperature', 'id': 'TEMP'},\n",
       "  {'name': 'Velocity', 'id': 'VELOCITY'},\n",
       "  {'name': 'Vertical Integrated Liquid', 'id': 'VERTINTLIQUID'}]}"
      ]
     },
     "execution_count": 71,
     "metadata": {},
     "output_type": "execute_result"
    }
   ],
   "source": [
    "new_url = 'https://www.ncdc.noaa.gov/cdo-web/api/v2/datacategories?locationid=ZIP:90210'\n",
    "response = requests.get(new_url, headers=headers).json()\n",
    "response"
   ]
  },
  {
   "cell_type": "code",
   "execution_count": null,
   "metadata": {},
   "outputs": [],
   "source": []
  }
 ],
 "metadata": {
  "kernelspec": {
   "display_name": "Python 3",
   "language": "python",
   "name": "python3"
  },
  "language_info": {
   "codemirror_mode": {
    "name": "ipython",
    "version": 3
   },
   "file_extension": ".py",
   "mimetype": "text/x-python",
   "name": "python",
   "nbconvert_exporter": "python",
   "pygments_lexer": "ipython3",
   "version": "3.7.4"
  }
 },
 "nbformat": 4,
 "nbformat_minor": 2
}
