{
 "cells": [
  {
   "cell_type": "code",
   "execution_count": null,
   "metadata": {},
   "outputs": [],
   "source": [
    "import pandas as pd\n",
    "import numpy as np\n",
    "from sklearn.model_selection import train_test_split\n",
    "from sklearn.preprocessing import StandardScaler, LabelEncoder\n",
    "from tensorflow.keras.utils import to_categorical\n",
    "from tensorflow.keras.models import Sequential\n",
    "from tensorflow.keras.layers import Dense\n",
    "import math\n",
    "import joblib"
   ]
  },
  {
   "cell_type": "code",
   "execution_count": null,
   "metadata": {},
   "outputs": [],
   "source": [
    "df = pd.read_csv(\"classifier_dataset.csv\")"
   ]
  },
  {
   "cell_type": "code",
   "execution_count": null,
   "metadata": {},
   "outputs": [],
   "source": [
    "df.columns"
   ]
  },
  {
   "cell_type": "code",
   "execution_count": null,
   "metadata": {},
   "outputs": [],
   "source": [
    "df[\"Weather_Description\"].unique()"
   ]
  },
  {
   "cell_type": "code",
   "execution_count": null,
   "metadata": {},
   "outputs": [],
   "source": [
    "# df_length = df.shape[0]\n",
    "# df_length\n",
    "# weather_classifier = []\n",
    "# for i in np.arange(0, df_length):\n",
    "#     if df.loc[i,\"Weather_Description\"] == \"heavy intensity rain\":\n",
    "#         weather_classifier.append(1)\n",
    "#     elif df.loc[i,\"Weather_Description\"] == \"smoke\":\n",
    "#         weather_classifier.append(1)\n",
    "#     elif df.loc[i,\"Weather_Description\"] == \"shower rain\":\n",
    "#         weather_classifier.append(1)\n",
    "#     elif df.loc[i,\"Weather_Description\"] == \"heavy snow\":\n",
    "#         weather_classifier.append(1)\n",
    "#     elif df.loc[i,\"Weather_Description\"] == \"sleet\":\n",
    "#         weather_classifier.append(1)\n",
    "#     elif df.loc[i,\"Weather_Description\"] == \"thunderstorm with light rain\":\n",
    "#         weather_classifier.append(1)\n",
    "#     elif df.loc[i,\"Weather_Description\"] == \"thunderstorm\":\n",
    "#         weather_classifier.append(1)\n",
    "#     elif df.loc[i,\"Weather_Description\"] == \"squalls\":\n",
    "#         weather_classifier.append(1)\n",
    "#     elif df.loc[i,\"Weather_Description\"] == \"thunderstorm with heavy rain\":\n",
    "#         weather_classifier.append(1)\n",
    "#     elif df.loc[i,\"Weather_Description\"] == \"thunderstorm with rain\":\n",
    "#         weather_classifier.append(1)\n",
    "#     elif df.loc[i,\"Weather_Description\"] == \"proximity thunderstorm\":\n",
    "#         weather_classifier.append(1)\n",
    "#     elif df.loc[i,\"Weather_Description\"] == \"very heavy rain\":\n",
    "#         weather_classifier.append(1)\n",
    "#     elif df.loc[i,\"Weather_Description\"] == \"snow\":\n",
    "#         weather_classifier.append(1)\n",
    "#     elif df.loc[i,\"Weather_Description\"] == \"shower snow\":\n",
    "#         weather_classifier.append(1)\n",
    "#     elif df.loc[i,\"Weather_Description\"] == \"proximity thunderstorm with rain\":\n",
    "#         weather_classifier.append(1)\n",
    "#     elif df.loc[i,\"Weather_Description\"] == \"freezing rain\":\n",
    "#         weather_classifier.append(1)\n",
    "#     elif df.loc[i,\"Weather_Description\"] == \"light rain and snow\":\n",
    "#         weather_classifier.append(1)\n",
    "#     elif df.loc[i,\"Weather_Description\"] == \"thunderstorm with heavy drizzle\":\n",
    "#         weather_classifier.append(1)\n",
    "#     elif df.loc[i,\"Weather_Description\"] == \"tornado\":\n",
    "#         weather_classifier.append(1)\n",
    "#     elif df.loc[i,\"Weather_Description\"] == \"heavy shower snow\":\n",
    "#         weather_classifier.append(1)\n",
    "#     elif df.loc[i,\"Weather_Description\"] == \"light shower sleet\":\n",
    "#         weather_classifier.append(1)\n",
    "#     elif df.loc[i,\"Weather_Description\"] == \"heavy intensity shower rain\":\n",
    "#         weather_classifier.append(1)\n",
    "#     elif df.loc[i,\"Weather_Description\"] == \"volcanic ash\":\n",
    "#         weather_classifier.append(1)\n",
    "#     elif df.loc[i,\"Weather_Description\"] == \"heavy thunderstorm\":\n",
    "#         weather_classifier.append(1)\n",
    "#     else:\n",
    "#         weather_classifier.append(0)\n",
    "        \n",
    "# df[\"Severe_Weather\"] = weather_classifier\n",
    "# df.head()"
   ]
  },
  {
   "cell_type": "code",
   "execution_count": null,
   "metadata": {},
   "outputs": [],
   "source": [
    "selected_features = df[['Temperature', 'Humidity', 'Wind_Speed',\n",
    "       'Wind_Direction', 'Pressure', 'Year', 'Month',\n",
    "       'Day', 'Hour', 'Latitude', 'Longitude']]\n",
    "y = df[[\"Weather_Description\"]]"
   ]
  },
  {
   "cell_type": "code",
   "execution_count": null,
   "metadata": {},
   "outputs": [],
   "source": [
    "y = y.values.reshape(-1,)\n",
    "y.shape"
   ]
  },
  {
   "cell_type": "code",
   "execution_count": null,
   "metadata": {},
   "outputs": [],
   "source": [
    "label_encoder = LabelEncoder()\n",
    "label_encoder.fit(y)\n",
    "encoded_y = label_encoder.transform(y)\n",
    "\n",
    "y_categorical = to_categorical(encoded_y)"
   ]
  },
  {
   "cell_type": "code",
   "execution_count": null,
   "metadata": {},
   "outputs": [],
   "source": [
    "X_train, X_test, y_train_categorical, y_test_categorical = train_test_split(selected_features, y_categorical, test_size=0.20)"
   ]
  },
  {
   "cell_type": "code",
   "execution_count": null,
   "metadata": {},
   "outputs": [],
   "source": [
    "X_scaler = StandardScaler().fit(X_train)\n",
    "\n",
    "X_train_scaled = X_scaler.transform(X_train)\n",
    "X_test_scaled = X_scaler.transform(X_test)"
   ]
  },
  {
   "cell_type": "code",
   "execution_count": null,
   "metadata": {},
   "outputs": [],
   "source": [
    "inputs = selected_features.shape[1]\n",
    "classes = len(df[\"Weather_Description\"].unique())\n",
    "\n",
    "model = Sequential()\n",
    "\n",
    "model.add(Dense(units=150, activation='relu', input_dim=inputs))\n",
    "model.add(Dense(units=classes, activation='softmax'))"
   ]
  },
  {
   "cell_type": "code",
   "execution_count": null,
   "metadata": {},
   "outputs": [],
   "source": [
    "model.compile(optimizer='adam',\n",
    "             loss='categorical_crossentropy',\n",
    "             metrics=['accuracy'])"
   ]
  },
  {
   "cell_type": "code",
   "execution_count": null,
   "metadata": {},
   "outputs": [],
   "source": [
    "model.fit(X_train_scaled,\n",
    "         y_train_categorical,\n",
    "         epochs=35,\n",
    "         shuffle=True,\n",
    "         verbose=2)"
   ]
  },
  {
   "cell_type": "code",
   "execution_count": null,
   "metadata": {},
   "outputs": [],
   "source": [
    "print(f\"Training Data Score: {model.evaluate(X_train_scaled, y_train_categorical)}\")\n",
    "print(f\"Testing Data Score: {model.evaluate(X_test_scaled, y_test_categorical)}\")"
   ]
  },
  {
   "cell_type": "code",
   "execution_count": null,
   "metadata": {},
   "outputs": [],
   "source": [
    "filename = 'one_layer_model.h5'\n",
    "joblib.dump(model, filename)"
   ]
  },
  {
   "cell_type": "code",
   "execution_count": null,
   "metadata": {},
   "outputs": [],
   "source": [
    "prediction = model.predict(X_test_scaled[0:1])[0]\n",
    "chosen = np.argmax(prediction)\n",
    "\n",
    "print(df[\"Weather_Description\"].unique()[chosen], prediction[chosen])"
   ]
  },
  {
   "cell_type": "code",
   "execution_count": null,
   "metadata": {},
   "outputs": [],
   "source": [
    "model.summary()"
   ]
  }
 ],
 "metadata": {
  "kernelspec": {
   "display_name": "Python 3",
   "language": "python",
   "name": "python3"
  },
  "language_info": {
   "codemirror_mode": {
    "name": "ipython",
    "version": 3
   },
   "file_extension": ".py",
   "mimetype": "text/x-python",
   "name": "python",
   "nbconvert_exporter": "python",
   "pygments_lexer": "ipython3",
   "version": "3.7.4"
  }
 },
 "nbformat": 4,
 "nbformat_minor": 2
}
