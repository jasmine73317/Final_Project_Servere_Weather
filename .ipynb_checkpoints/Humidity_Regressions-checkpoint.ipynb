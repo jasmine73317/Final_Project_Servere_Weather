{
 "cells": [
  {
   "cell_type": "code",
   "execution_count": 1,
   "metadata": {
    "ExecuteTime": {
     "end_time": "2020-08-15T02:59:51.625282Z",
     "start_time": "2020-08-15T02:59:49.335014Z"
    },
    "slideshow": {
     "slide_type": "-"
    }
   },
   "outputs": [],
   "source": [
    "# Dependencies\n",
    "# %matplotlib inline\n",
    "import matplotlib.pyplot as plt\n",
    "import numpy as np\n",
    "import pandas as pd\n",
    "import os"
   ]
  },
  {
   "cell_type": "code",
   "execution_count": 2,
   "metadata": {
    "ExecuteTime": {
     "end_time": "2020-08-15T02:59:52.074333Z",
     "start_time": "2020-08-15T02:59:51.628282Z"
    },
    "slideshow": {
     "slide_type": "-"
    }
   },
   "outputs": [
    {
     "data": {
      "text/html": [
       "<div>\n",
       "<style scoped>\n",
       "    .dataframe tbody tr th:only-of-type {\n",
       "        vertical-align: middle;\n",
       "    }\n",
       "\n",
       "    .dataframe tbody tr th {\n",
       "        vertical-align: top;\n",
       "    }\n",
       "\n",
       "    .dataframe thead th {\n",
       "        text-align: right;\n",
       "    }\n",
       "</style>\n",
       "<table border=\"1\" class=\"dataframe\">\n",
       "  <thead>\n",
       "    <tr style=\"text-align: right;\">\n",
       "      <th></th>\n",
       "      <th>Unnamed: 0</th>\n",
       "      <th>Date and Time</th>\n",
       "      <th>Temperature</th>\n",
       "      <th>Humidity</th>\n",
       "      <th>Wind_Speed</th>\n",
       "      <th>Wind_Direction</th>\n",
       "      <th>Pressure</th>\n",
       "      <th>Weather_Description</th>\n",
       "      <th>Year</th>\n",
       "      <th>Month</th>\n",
       "      <th>...</th>\n",
       "      <th>Year Wind_Speed Average</th>\n",
       "      <th>Month Wind_Speed Max</th>\n",
       "      <th>Month Wind_Speed Min</th>\n",
       "      <th>Month Wind_Speed Average</th>\n",
       "      <th>Year Humidity Max</th>\n",
       "      <th>Year Humidity Min</th>\n",
       "      <th>Year Humidity Average</th>\n",
       "      <th>Month Humidity Max</th>\n",
       "      <th>Month Humidity Min</th>\n",
       "      <th>Month Humidity Average</th>\n",
       "    </tr>\n",
       "  </thead>\n",
       "  <tbody>\n",
       "    <tr>\n",
       "      <td>0</td>\n",
       "      <td>1</td>\n",
       "      <td>2012-10-01 13:00:00</td>\n",
       "      <td>299.720000</td>\n",
       "      <td>83.0</td>\n",
       "      <td>3.0</td>\n",
       "      <td>200.0</td>\n",
       "      <td>1011.0</td>\n",
       "      <td>light intensity drizzle</td>\n",
       "      <td>2012</td>\n",
       "      <td>10</td>\n",
       "      <td>...</td>\n",
       "      <td>2.917371</td>\n",
       "      <td>15.0</td>\n",
       "      <td>0.0</td>\n",
       "      <td>3.667356</td>\n",
       "      <td>100.0</td>\n",
       "      <td>18.0</td>\n",
       "      <td>69.999061</td>\n",
       "      <td>100.0</td>\n",
       "      <td>35.0</td>\n",
       "      <td>79.172644</td>\n",
       "    </tr>\n",
       "    <tr>\n",
       "      <td>1</td>\n",
       "      <td>2</td>\n",
       "      <td>2012-10-01 14:00:00</td>\n",
       "      <td>299.732518</td>\n",
       "      <td>82.0</td>\n",
       "      <td>3.0</td>\n",
       "      <td>200.0</td>\n",
       "      <td>1011.0</td>\n",
       "      <td>broken clouds</td>\n",
       "      <td>2012</td>\n",
       "      <td>10</td>\n",
       "      <td>...</td>\n",
       "      <td>2.917371</td>\n",
       "      <td>15.0</td>\n",
       "      <td>0.0</td>\n",
       "      <td>3.667356</td>\n",
       "      <td>100.0</td>\n",
       "      <td>18.0</td>\n",
       "      <td>69.999061</td>\n",
       "      <td>100.0</td>\n",
       "      <td>35.0</td>\n",
       "      <td>79.172644</td>\n",
       "    </tr>\n",
       "    <tr>\n",
       "      <td>2</td>\n",
       "      <td>3</td>\n",
       "      <td>2012-10-01 15:00:00</td>\n",
       "      <td>299.766579</td>\n",
       "      <td>82.0</td>\n",
       "      <td>3.0</td>\n",
       "      <td>200.0</td>\n",
       "      <td>1011.0</td>\n",
       "      <td>broken clouds</td>\n",
       "      <td>2012</td>\n",
       "      <td>10</td>\n",
       "      <td>...</td>\n",
       "      <td>2.917371</td>\n",
       "      <td>15.0</td>\n",
       "      <td>0.0</td>\n",
       "      <td>3.667356</td>\n",
       "      <td>100.0</td>\n",
       "      <td>18.0</td>\n",
       "      <td>69.999061</td>\n",
       "      <td>100.0</td>\n",
       "      <td>35.0</td>\n",
       "      <td>79.172644</td>\n",
       "    </tr>\n",
       "    <tr>\n",
       "      <td>3</td>\n",
       "      <td>4</td>\n",
       "      <td>2012-10-01 16:00:00</td>\n",
       "      <td>299.800641</td>\n",
       "      <td>82.0</td>\n",
       "      <td>3.0</td>\n",
       "      <td>200.0</td>\n",
       "      <td>1011.0</td>\n",
       "      <td>broken clouds</td>\n",
       "      <td>2012</td>\n",
       "      <td>10</td>\n",
       "      <td>...</td>\n",
       "      <td>2.917371</td>\n",
       "      <td>15.0</td>\n",
       "      <td>0.0</td>\n",
       "      <td>3.667356</td>\n",
       "      <td>100.0</td>\n",
       "      <td>18.0</td>\n",
       "      <td>69.999061</td>\n",
       "      <td>100.0</td>\n",
       "      <td>35.0</td>\n",
       "      <td>79.172644</td>\n",
       "    </tr>\n",
       "    <tr>\n",
       "      <td>4</td>\n",
       "      <td>5</td>\n",
       "      <td>2012-10-01 17:00:00</td>\n",
       "      <td>299.834703</td>\n",
       "      <td>81.0</td>\n",
       "      <td>3.0</td>\n",
       "      <td>200.0</td>\n",
       "      <td>1011.0</td>\n",
       "      <td>broken clouds</td>\n",
       "      <td>2012</td>\n",
       "      <td>10</td>\n",
       "      <td>...</td>\n",
       "      <td>2.917371</td>\n",
       "      <td>15.0</td>\n",
       "      <td>0.0</td>\n",
       "      <td>3.667356</td>\n",
       "      <td>100.0</td>\n",
       "      <td>18.0</td>\n",
       "      <td>69.999061</td>\n",
       "      <td>100.0</td>\n",
       "      <td>35.0</td>\n",
       "      <td>79.172644</td>\n",
       "    </tr>\n",
       "  </tbody>\n",
       "</table>\n",
       "<p>5 rows × 36 columns</p>\n",
       "</div>"
      ],
      "text/plain": [
       "   Unnamed: 0        Date and Time  Temperature  Humidity  Wind_Speed  \\\n",
       "0           1  2012-10-01 13:00:00   299.720000      83.0         3.0   \n",
       "1           2  2012-10-01 14:00:00   299.732518      82.0         3.0   \n",
       "2           3  2012-10-01 15:00:00   299.766579      82.0         3.0   \n",
       "3           4  2012-10-01 16:00:00   299.800641      82.0         3.0   \n",
       "4           5  2012-10-01 17:00:00   299.834703      81.0         3.0   \n",
       "\n",
       "   Wind_Direction  Pressure      Weather_Description  Year  Month  ...  \\\n",
       "0           200.0    1011.0  light intensity drizzle  2012     10  ...   \n",
       "1           200.0    1011.0            broken clouds  2012     10  ...   \n",
       "2           200.0    1011.0            broken clouds  2012     10  ...   \n",
       "3           200.0    1011.0            broken clouds  2012     10  ...   \n",
       "4           200.0    1011.0            broken clouds  2012     10  ...   \n",
       "\n",
       "   Year Wind_Speed Average  Month Wind_Speed Max  Month Wind_Speed Min  \\\n",
       "0                 2.917371                  15.0                   0.0   \n",
       "1                 2.917371                  15.0                   0.0   \n",
       "2                 2.917371                  15.0                   0.0   \n",
       "3                 2.917371                  15.0                   0.0   \n",
       "4                 2.917371                  15.0                   0.0   \n",
       "\n",
       "   Month Wind_Speed Average  Year Humidity Max  Year Humidity Min  \\\n",
       "0                  3.667356              100.0               18.0   \n",
       "1                  3.667356              100.0               18.0   \n",
       "2                  3.667356              100.0               18.0   \n",
       "3                  3.667356              100.0               18.0   \n",
       "4                  3.667356              100.0               18.0   \n",
       "\n",
       "   Year Humidity Average  Month Humidity Max  Month Humidity Min  \\\n",
       "0              69.999061               100.0                35.0   \n",
       "1              69.999061               100.0                35.0   \n",
       "2              69.999061               100.0                35.0   \n",
       "3              69.999061               100.0                35.0   \n",
       "4              69.999061               100.0                35.0   \n",
       "\n",
       "   Month Humidity Average  \n",
       "0               79.172644  \n",
       "1               79.172644  \n",
       "2               79.172644  \n",
       "3               79.172644  \n",
       "4               79.172644  \n",
       "\n",
       "[5 rows x 36 columns]"
      ]
     },
     "execution_count": 2,
     "metadata": {},
     "output_type": "execute_result"
    }
   ],
   "source": [
    "# Read the csv file into a pandas DataFrame; Drop NAN Values\n",
    "df = pd.read_csv(os.path.join(\"Resources\", \"finished_city_dfs\", \"Miami_df.csv\")).dropna()\n",
    "df.head()"
   ]
  },
  {
   "cell_type": "code",
   "execution_count": 3,
   "metadata": {
    "ExecuteTime": {
     "end_time": "2020-08-15T02:59:52.139325Z",
     "start_time": "2020-08-15T02:59:52.078320Z"
    },
    "slideshow": {
     "slide_type": "-"
    }
   },
   "outputs": [
    {
     "data": {
      "text/html": [
       "<div>\n",
       "<style scoped>\n",
       "    .dataframe tbody tr th:only-of-type {\n",
       "        vertical-align: middle;\n",
       "    }\n",
       "\n",
       "    .dataframe tbody tr th {\n",
       "        vertical-align: top;\n",
       "    }\n",
       "\n",
       "    .dataframe thead th {\n",
       "        text-align: right;\n",
       "    }\n",
       "</style>\n",
       "<table border=\"1\" class=\"dataframe\">\n",
       "  <thead>\n",
       "    <tr style=\"text-align: right;\">\n",
       "      <th></th>\n",
       "      <th>Date and Time</th>\n",
       "      <th>Temperature</th>\n",
       "      <th>Humidity</th>\n",
       "      <th>Wind_Speed</th>\n",
       "      <th>Wind_Direction</th>\n",
       "      <th>Pressure</th>\n",
       "      <th>Weather_Description</th>\n",
       "      <th>Year</th>\n",
       "      <th>Month</th>\n",
       "      <th>Day</th>\n",
       "      <th>...</th>\n",
       "      <th>Year Wind_Speed Average</th>\n",
       "      <th>Month Wind_Speed Max</th>\n",
       "      <th>Month Wind_Speed Min</th>\n",
       "      <th>Month Wind_Speed Average</th>\n",
       "      <th>Year Humidity Max</th>\n",
       "      <th>Year Humidity Min</th>\n",
       "      <th>Year Humidity Average</th>\n",
       "      <th>Month Humidity Max</th>\n",
       "      <th>Month Humidity Min</th>\n",
       "      <th>Month Humidity Average</th>\n",
       "    </tr>\n",
       "  </thead>\n",
       "  <tbody>\n",
       "    <tr>\n",
       "      <td>44146</td>\n",
       "      <td>2017-10-27 20:00:00</td>\n",
       "      <td>299.92</td>\n",
       "      <td>54.0</td>\n",
       "      <td>6.0</td>\n",
       "      <td>70.0</td>\n",
       "      <td>1015.0</td>\n",
       "      <td>broken clouds</td>\n",
       "      <td>2017</td>\n",
       "      <td>10</td>\n",
       "      <td>27</td>\n",
       "      <td>...</td>\n",
       "      <td>3.686571</td>\n",
       "      <td>15.0</td>\n",
       "      <td>0.0</td>\n",
       "      <td>3.667356</td>\n",
       "      <td>100.0</td>\n",
       "      <td>23.0</td>\n",
       "      <td>71.865435</td>\n",
       "      <td>100.0</td>\n",
       "      <td>35.0</td>\n",
       "      <td>79.172644</td>\n",
       "    </tr>\n",
       "    <tr>\n",
       "      <td>44147</td>\n",
       "      <td>2017-10-27 21:00:00</td>\n",
       "      <td>299.81</td>\n",
       "      <td>54.0</td>\n",
       "      <td>5.0</td>\n",
       "      <td>50.0</td>\n",
       "      <td>1015.0</td>\n",
       "      <td>broken clouds</td>\n",
       "      <td>2017</td>\n",
       "      <td>10</td>\n",
       "      <td>27</td>\n",
       "      <td>...</td>\n",
       "      <td>3.686571</td>\n",
       "      <td>15.0</td>\n",
       "      <td>0.0</td>\n",
       "      <td>3.667356</td>\n",
       "      <td>100.0</td>\n",
       "      <td>23.0</td>\n",
       "      <td>71.865435</td>\n",
       "      <td>100.0</td>\n",
       "      <td>35.0</td>\n",
       "      <td>79.172644</td>\n",
       "    </tr>\n",
       "    <tr>\n",
       "      <td>44148</td>\n",
       "      <td>2017-10-27 22:00:00</td>\n",
       "      <td>299.15</td>\n",
       "      <td>61.0</td>\n",
       "      <td>5.0</td>\n",
       "      <td>50.0</td>\n",
       "      <td>1014.0</td>\n",
       "      <td>broken clouds</td>\n",
       "      <td>2017</td>\n",
       "      <td>10</td>\n",
       "      <td>27</td>\n",
       "      <td>...</td>\n",
       "      <td>3.686571</td>\n",
       "      <td>15.0</td>\n",
       "      <td>0.0</td>\n",
       "      <td>3.667356</td>\n",
       "      <td>100.0</td>\n",
       "      <td>23.0</td>\n",
       "      <td>71.865435</td>\n",
       "      <td>100.0</td>\n",
       "      <td>35.0</td>\n",
       "      <td>79.172644</td>\n",
       "    </tr>\n",
       "    <tr>\n",
       "      <td>44149</td>\n",
       "      <td>2017-10-27 23:00:00</td>\n",
       "      <td>298.90</td>\n",
       "      <td>54.0</td>\n",
       "      <td>5.0</td>\n",
       "      <td>80.0</td>\n",
       "      <td>1014.0</td>\n",
       "      <td>broken clouds</td>\n",
       "      <td>2017</td>\n",
       "      <td>10</td>\n",
       "      <td>27</td>\n",
       "      <td>...</td>\n",
       "      <td>3.686571</td>\n",
       "      <td>15.0</td>\n",
       "      <td>0.0</td>\n",
       "      <td>3.667356</td>\n",
       "      <td>100.0</td>\n",
       "      <td>23.0</td>\n",
       "      <td>71.865435</td>\n",
       "      <td>100.0</td>\n",
       "      <td>35.0</td>\n",
       "      <td>79.172644</td>\n",
       "    </tr>\n",
       "    <tr>\n",
       "      <td>44150</td>\n",
       "      <td>2017-10-28 00:00:00</td>\n",
       "      <td>297.64</td>\n",
       "      <td>57.0</td>\n",
       "      <td>6.0</td>\n",
       "      <td>80.0</td>\n",
       "      <td>1015.0</td>\n",
       "      <td>broken clouds</td>\n",
       "      <td>2017</td>\n",
       "      <td>10</td>\n",
       "      <td>28</td>\n",
       "      <td>...</td>\n",
       "      <td>3.686571</td>\n",
       "      <td>15.0</td>\n",
       "      <td>0.0</td>\n",
       "      <td>3.667356</td>\n",
       "      <td>100.0</td>\n",
       "      <td>23.0</td>\n",
       "      <td>71.865435</td>\n",
       "      <td>100.0</td>\n",
       "      <td>35.0</td>\n",
       "      <td>79.172644</td>\n",
       "    </tr>\n",
       "  </tbody>\n",
       "</table>\n",
       "<p>5 rows × 35 columns</p>\n",
       "</div>"
      ],
      "text/plain": [
       "             Date and Time  Temperature  Humidity  Wind_Speed  Wind_Direction  \\\n",
       "44146  2017-10-27 20:00:00       299.92      54.0         6.0            70.0   \n",
       "44147  2017-10-27 21:00:00       299.81      54.0         5.0            50.0   \n",
       "44148  2017-10-27 22:00:00       299.15      61.0         5.0            50.0   \n",
       "44149  2017-10-27 23:00:00       298.90      54.0         5.0            80.0   \n",
       "44150  2017-10-28 00:00:00       297.64      57.0         6.0            80.0   \n",
       "\n",
       "       Pressure Weather_Description  Year  Month  Day  ...  \\\n",
       "44146    1015.0       broken clouds  2017     10   27  ...   \n",
       "44147    1015.0       broken clouds  2017     10   27  ...   \n",
       "44148    1014.0       broken clouds  2017     10   27  ...   \n",
       "44149    1014.0       broken clouds  2017     10   27  ...   \n",
       "44150    1015.0       broken clouds  2017     10   28  ...   \n",
       "\n",
       "       Year Wind_Speed Average  Month Wind_Speed Max  Month Wind_Speed Min  \\\n",
       "44146                 3.686571                  15.0                   0.0   \n",
       "44147                 3.686571                  15.0                   0.0   \n",
       "44148                 3.686571                  15.0                   0.0   \n",
       "44149                 3.686571                  15.0                   0.0   \n",
       "44150                 3.686571                  15.0                   0.0   \n",
       "\n",
       "       Month Wind_Speed Average  Year Humidity Max  Year Humidity Min  \\\n",
       "44146                  3.667356              100.0               23.0   \n",
       "44147                  3.667356              100.0               23.0   \n",
       "44148                  3.667356              100.0               23.0   \n",
       "44149                  3.667356              100.0               23.0   \n",
       "44150                  3.667356              100.0               23.0   \n",
       "\n",
       "       Year Humidity Average  Month Humidity Max  Month Humidity Min  \\\n",
       "44146              71.865435               100.0                35.0   \n",
       "44147              71.865435               100.0                35.0   \n",
       "44148              71.865435               100.0                35.0   \n",
       "44149              71.865435               100.0                35.0   \n",
       "44150              71.865435               100.0                35.0   \n",
       "\n",
       "       Month Humidity Average  \n",
       "44146               79.172644  \n",
       "44147               79.172644  \n",
       "44148               79.172644  \n",
       "44149               79.172644  \n",
       "44150               79.172644  \n",
       "\n",
       "[5 rows x 35 columns]"
      ]
     },
     "execution_count": 3,
     "metadata": {},
     "output_type": "execute_result"
    }
   ],
   "source": [
    "# Drop first column \n",
    "df.drop(df.columns[0], axis = 1, inplace = True) \n",
    "df.tail()"
   ]
  },
  {
   "cell_type": "code",
   "execution_count": 4,
   "metadata": {
    "ExecuteTime": {
     "end_time": "2020-08-15T02:59:52.156327Z",
     "start_time": "2020-08-15T02:59:52.142326Z"
    },
    "slideshow": {
     "slide_type": "-"
    }
   },
   "outputs": [
    {
     "name": "stdout",
     "output_type": "stream",
     "text": [
      "(44151, 4) (44151, 1)\n"
     ]
    }
   ],
   "source": [
    "# Reshape the values\n",
    "\n",
    "X = df[[\"Temperature\", \"Wind_Speed\", \"Wind_Direction\", \"Pressure\"]]\n",
    "y = df[\"Humidity\"].values.reshape(-1, 1)\n",
    "\n",
    "print(X.shape, y.shape)"
   ]
  },
  {
   "cell_type": "code",
   "execution_count": 5,
   "metadata": {
    "ExecuteTime": {
     "end_time": "2020-08-15T02:59:55.258564Z",
     "start_time": "2020-08-15T02:59:52.160326Z"
    },
    "slideshow": {
     "slide_type": "-"
    }
   },
   "outputs": [],
   "source": [
    "# Split the data into training and testing\n",
    "\n",
    "from sklearn.model_selection import train_test_split\n",
    "\n",
    "X_train, X_test, y_train, y_test = train_test_split(X, y, random_state=42)\n"
   ]
  },
  {
   "cell_type": "code",
   "execution_count": 6,
   "metadata": {
    "ExecuteTime": {
     "end_time": "2020-08-15T02:59:55.279535Z",
     "start_time": "2020-08-15T02:59:55.262534Z"
    },
    "slideshow": {
     "slide_type": "-"
    }
   },
   "outputs": [],
   "source": [
    "# Create a StandardScaler model and fit it to the training data\n",
    "\n",
    "from sklearn.preprocessing import StandardScaler\n",
    "\n",
    "X_scaler = StandardScaler().fit(X_train)\n",
    "y_scaler = StandardScaler().fit(y_train)\n"
   ]
  },
  {
   "cell_type": "code",
   "execution_count": 7,
   "metadata": {
    "ExecuteTime": {
     "end_time": "2020-08-15T02:59:55.297535Z",
     "start_time": "2020-08-15T02:59:55.283534Z"
    }
   },
   "outputs": [],
   "source": [
    "# Transform the training and testing data using the X_scaler and y_scaler models\n",
    "\n",
    "X_train_scaled = X_scaler.transform(X_train)\n",
    "X_test_scaled = X_scaler.transform(X_test)\n",
    "y_train_scaled = y_scaler.transform(y_train)\n",
    "y_test_scaled = y_scaler.transform(y_test)\n"
   ]
  },
  {
   "cell_type": "code",
   "execution_count": 8,
   "metadata": {
    "ExecuteTime": {
     "end_time": "2020-08-15T02:59:55.413542Z",
     "start_time": "2020-08-15T02:59:55.302535Z"
    }
   },
   "outputs": [
    {
     "data": {
      "text/plain": [
       "LinearRegression(copy_X=True, fit_intercept=True, n_jobs=None, normalize=False)"
      ]
     },
     "execution_count": 8,
     "metadata": {},
     "output_type": "execute_result"
    }
   ],
   "source": [
    "# Create a LinearRegression model and fit it to the scaled training data\n",
    "\n",
    "from sklearn.linear_model import LinearRegression\n",
    "model = LinearRegression()\n",
    "model.fit(X_train_scaled, y_train_scaled)\n"
   ]
  },
  {
   "cell_type": "code",
   "execution_count": 9,
   "metadata": {
    "ExecuteTime": {
     "end_time": "2020-08-15T02:59:56.476506Z",
     "start_time": "2020-08-15T02:59:55.416545Z"
    }
   },
   "outputs": [
    {
     "data": {
      "image/png": "[encoded data removed]",
      "text/plain": [
       "<Figure size 432x288 with 1 Axes>"
      ]
     },
     "metadata": {
      "needs_background": "light"
     },
     "output_type": "display_data"
    }
   ],
   "source": [
    "# Make predictions using a fitted model; build the plot\n",
    "\n",
    "predictions = model.predict(X_test_scaled)\n",
    "model.fit(X_train_scaled, y_train_scaled)\n",
    "plt.scatter(model.predict(X_train_scaled), model.predict(X_train_scaled) - y_train_scaled, c=\"blue\", label=\"Training Data\")\n",
    "plt.scatter(model.predict(X_test_scaled), model.predict(X_test_scaled) - y_test_scaled, c=\"orange\", label=\"Testing Data\")\n",
    "plt.legend()\n",
    "plt.hlines(y=0, xmin=y_test_scaled.min(), xmax=y_test_scaled.max())\n",
    "plt.title(\"Residual Plot\")\n",
    "plt.show()\n"
   ]
  },
  {
   "cell_type": "code",
   "execution_count": 10,
   "metadata": {
    "ExecuteTime": {
     "end_time": "2020-08-15T02:59:56.490505Z",
     "start_time": "2020-08-15T02:59:56.479504Z"
    }
   },
   "outputs": [
    {
     "name": "stdout",
     "output_type": "stream",
     "text": [
      "MSE: 0.9053392478058979, R2: 0.0892472984445476\n"
     ]
    }
   ],
   "source": [
    "# Used X_test_scaled, y_test_scaled, and model.predict(X_test_scaled) to calculate MSE and R2\n",
    "\n",
    "from sklearn.metrics import mean_squared_error\n",
    "\n",
    "MSE = mean_squared_error(y_test_scaled, predictions)\n",
    "r2 = model.score(X_test_scaled, y_test_scaled)\n",
    "\n",
    "print(f\"MSE: {MSE}, R2: {r2}\")"
   ]
  },
  {
   "cell_type": "code",
   "execution_count": 11,
   "metadata": {
    "ExecuteTime": {
     "end_time": "2020-08-15T02:59:56.519507Z",
     "start_time": "2020-08-15T02:59:56.492506Z"
    }
   },
   "outputs": [
    {
     "name": "stdout",
     "output_type": "stream",
     "text": [
      "MSE: 0.9051827276870577, R2: 0.08940475447158613\n"
     ]
    }
   ],
   "source": [
    "# LASSO model\n",
    "\n",
    "from sklearn.linear_model import Lasso\n",
    "\n",
    "lasso = Lasso(alpha=.01).fit(X_train_scaled, y_train_scaled)\n",
    "\n",
    "predictions = lasso.predict(X_test_scaled)\n",
    "\n",
    "MSE = mean_squared_error(y_test_scaled, predictions)\n",
    "r2 = lasso.score(X_test_scaled, y_test_scaled)\n",
    "\n",
    "print(f\"MSE: {MSE}, R2: {r2}\")"
   ]
  },
  {
   "cell_type": "code",
   "execution_count": 12,
   "metadata": {
    "ExecuteTime": {
     "end_time": "2020-08-15T02:59:56.553513Z",
     "start_time": "2020-08-15T02:59:56.523508Z"
    }
   },
   "outputs": [
    {
     "name": "stdout",
     "output_type": "stream",
     "text": [
      "MSE: 0.9053392422414956, R2: 0.08924730404222214\n"
     ]
    }
   ],
   "source": [
    "# Ridge model\n",
    "\n",
    "from sklearn.linear_model import Ridge\n",
    "\n",
    "ridge = Ridge(alpha=.01).fit(X_train_scaled, y_train_scaled)\n",
    "\n",
    "predictions = ridge.predict(X_test_scaled)\n",
    "\n",
    "MSE = mean_squared_error(y_test_scaled, predictions)\n",
    "r2 = ridge.score(X_test_scaled, y_test_scaled)\n",
    "\n",
    "print(f\"MSE: {MSE}, R2: {r2}\")"
   ]
  },
  {
   "cell_type": "code",
   "execution_count": 13,
   "metadata": {
    "ExecuteTime": {
     "end_time": "2020-08-15T02:59:56.579515Z",
     "start_time": "2020-08-15T02:59:56.556512Z"
    }
   },
   "outputs": [
    {
     "name": "stdout",
     "output_type": "stream",
     "text": [
      "MSE: 0.9051044919790441, R2: 0.08948345798809021\n"
     ]
    }
   ],
   "source": [
    "# ElasticNet model\n",
    "\n",
    "from sklearn.linear_model import ElasticNet\n",
    "\n",
    "elasticnet = ElasticNet(alpha=.01).fit(X_train_scaled, y_train_scaled)\n",
    "\n",
    "predictions = elasticnet.predict(X_test_scaled)\n",
    "\n",
    "MSE = mean_squared_error(y_test_scaled, predictions)\n",
    "r2 = elasticnet.score(X_test_scaled, y_test_scaled)\n",
    "\n",
    "print(f\"MSE: {MSE}, R2: {r2}\")"
   ]
  },
  {
   "cell_type": "code",
   "execution_count": 14,
   "metadata": {
    "ExecuteTime": {
     "end_time": "2020-08-15T02:59:56.593514Z",
     "start_time": "2020-08-15T02:59:56.583514Z"
    }
   },
   "outputs": [
    {
     "data": {
      "text/plain": [
       "['Humidity_Regressions.joblib']"
      ]
     },
     "execution_count": 14,
     "metadata": {},
     "output_type": "execute_result"
    }
   ],
   "source": [
    "from joblib import dump, load\n",
    ">>> dump(model, 'Humidity_Regressions.joblib')"
   ]
  },
  {
   "cell_type": "code",
   "execution_count": null,
   "metadata": {},
   "outputs": [],
   "source": []
  }
 ],
 "metadata": {
  "celltoolbar": "Slideshow",
  "hide_input": false,
  "kernelspec": {
   "display_name": "Python 3",
   "language": "python",
   "name": "python3"
  },
  "language_info": {
   "codemirror_mode": {
    "name": "ipython",
    "version": 3
   },
   "file_extension": ".py",
   "mimetype": "text/x-python",
   "name": "python",
   "nbconvert_exporter": "python",
   "pygments_lexer": "ipython3",
   "version": "3.7.4"
  },
  "toc": {
   "base_numbering": 1,
   "nav_menu": {},
   "number_sections": true,
   "sideBar": true,
   "skip_h1_title": false,
   "title_cell": "Table of Contents",
   "title_sidebar": "Contents",
   "toc_cell": false,
   "toc_position": {},
   "toc_section_display": true,
   "toc_window_display": false
  },
  "varInspector": {
   "cols": {
    "lenName": 16,
    "lenType": 16,
    "lenVar": 40
   },
   "kernels_config": {
    "python": {
     "delete_cmd_postfix": "",
     "delete_cmd_prefix": "del ",
     "library": "var_list.py",
     "varRefreshCmd": "print(var_dic_list())"
    },
    "r": {
     "delete_cmd_postfix": ") ",
     "delete_cmd_prefix": "rm(",
     "library": "var_list.r",
     "varRefreshCmd": "cat(var_dic_list()) "
    }
   },
   "types_to_exclude": [
    "module",
    "function",
    "builtin_function_or_method",
    "instance",
    "_Feature"
   ],
   "window_display": false
  }
 },
 "nbformat": 4,
 "nbformat_minor": 2
}
