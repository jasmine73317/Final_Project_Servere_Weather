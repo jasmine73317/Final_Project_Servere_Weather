{
 "cells": [
  {
   "cell_type": "code",
   "execution_count": 9,
   "metadata": {},
   "outputs": [],
   "source": [
    "import pandas as pd\n",
    "import numpy as np\n",
    "from sklearn.model_selection import train_test_split\n",
    "from sklearn.preprocessing import StandardScaler, LabelEncoder\n",
    "from tensorflow.keras.utils import to_categorical\n",
    "from tensorflow.keras.models import Sequential\n",
    "from tensorflow.keras.layers import Dense\n",
    "from tensorflow import keras\n",
    "import datetime\n",
    "import math\n",
    "import joblib"
   ]
  },
  {
   "cell_type": "code",
   "execution_count": 10,
   "metadata": {},
   "outputs": [
    {
     "data": {
      "text/html": [
       "<div>\n",
       "<style scoped>\n",
       "    .dataframe tbody tr th:only-of-type {\n",
       "        vertical-align: middle;\n",
       "    }\n",
       "\n",
       "    .dataframe tbody tr th {\n",
       "        vertical-align: top;\n",
       "    }\n",
       "\n",
       "    .dataframe thead th {\n",
       "        text-align: right;\n",
       "    }\n",
       "</style>\n",
       "<table border=\"1\" class=\"dataframe\">\n",
       "  <thead>\n",
       "    <tr style=\"text-align: right;\">\n",
       "      <th></th>\n",
       "      <th>Date and Time</th>\n",
       "      <th>Timestamp</th>\n",
       "      <th>Temperature</th>\n",
       "      <th>Humidity</th>\n",
       "      <th>Wind_Speed</th>\n",
       "      <th>Wind_Direction</th>\n",
       "      <th>Pressure</th>\n",
       "      <th>Weather_Description</th>\n",
       "      <th>Year</th>\n",
       "      <th>Day sin</th>\n",
       "      <th>Day cos</th>\n",
       "      <th>Year sin</th>\n",
       "      <th>Year cos</th>\n",
       "      <th>City</th>\n",
       "      <th>Latitude</th>\n",
       "      <th>Longitude</th>\n",
       "      <th>Severe_Weather</th>\n",
       "    </tr>\n",
       "  </thead>\n",
       "  <tbody>\n",
       "    <tr>\n",
       "      <td>0</td>\n",
       "      <td>2012-10-01 13:00:00</td>\n",
       "      <td>1.349114e+09</td>\n",
       "      <td>285.12</td>\n",
       "      <td>50.0</td>\n",
       "      <td>4.0</td>\n",
       "      <td>360.0</td>\n",
       "      <td>1024.0</td>\n",
       "      <td>sky is clear</td>\n",
       "      <td>2012</td>\n",
       "      <td>-1.0</td>\n",
       "      <td>-3.741022e-12</td>\n",
       "      <td>-0.999938</td>\n",
       "      <td>0.011112</td>\n",
       "      <td>Albuquerque</td>\n",
       "      <td>35.084492</td>\n",
       "      <td>-106.651138</td>\n",
       "      <td>Non-severe Weather</td>\n",
       "    </tr>\n",
       "    <tr>\n",
       "      <td>1</td>\n",
       "      <td>2012-10-01 13:00:00</td>\n",
       "      <td>1.349114e+09</td>\n",
       "      <td>294.03</td>\n",
       "      <td>94.0</td>\n",
       "      <td>3.0</td>\n",
       "      <td>110.0</td>\n",
       "      <td>1006.0</td>\n",
       "      <td>light rain</td>\n",
       "      <td>2012</td>\n",
       "      <td>-1.0</td>\n",
       "      <td>-3.741022e-12</td>\n",
       "      <td>-0.999938</td>\n",
       "      <td>0.011112</td>\n",
       "      <td>Atlanta</td>\n",
       "      <td>33.749001</td>\n",
       "      <td>-84.387978</td>\n",
       "      <td>Non-severe Weather</td>\n",
       "    </tr>\n",
       "    <tr>\n",
       "      <td>2</td>\n",
       "      <td>2012-10-01 13:00:00</td>\n",
       "      <td>1.349114e+09</td>\n",
       "      <td>287.17</td>\n",
       "      <td>68.0</td>\n",
       "      <td>3.0</td>\n",
       "      <td>60.0</td>\n",
       "      <td>1014.0</td>\n",
       "      <td>sky is clear</td>\n",
       "      <td>2012</td>\n",
       "      <td>-1.0</td>\n",
       "      <td>-3.741022e-12</td>\n",
       "      <td>-0.999938</td>\n",
       "      <td>0.011112</td>\n",
       "      <td>Boston</td>\n",
       "      <td>42.358429</td>\n",
       "      <td>-71.059769</td>\n",
       "      <td>Non-severe Weather</td>\n",
       "    </tr>\n",
       "    <tr>\n",
       "      <td>3</td>\n",
       "      <td>2012-10-01 13:00:00</td>\n",
       "      <td>1.349114e+09</td>\n",
       "      <td>288.65</td>\n",
       "      <td>87.0</td>\n",
       "      <td>4.0</td>\n",
       "      <td>70.0</td>\n",
       "      <td>1012.0</td>\n",
       "      <td>mist</td>\n",
       "      <td>2012</td>\n",
       "      <td>-1.0</td>\n",
       "      <td>-3.741022e-12</td>\n",
       "      <td>-0.999938</td>\n",
       "      <td>0.011112</td>\n",
       "      <td>Charlotte</td>\n",
       "      <td>35.227089</td>\n",
       "      <td>-80.843132</td>\n",
       "      <td>Non-severe Weather</td>\n",
       "    </tr>\n",
       "    <tr>\n",
       "      <td>4</td>\n",
       "      <td>2012-10-01 13:00:00</td>\n",
       "      <td>1.349114e+09</td>\n",
       "      <td>284.01</td>\n",
       "      <td>71.0</td>\n",
       "      <td>0.0</td>\n",
       "      <td>0.0</td>\n",
       "      <td>1014.0</td>\n",
       "      <td>overcast clouds</td>\n",
       "      <td>2012</td>\n",
       "      <td>-1.0</td>\n",
       "      <td>-3.741022e-12</td>\n",
       "      <td>-0.999938</td>\n",
       "      <td>0.011112</td>\n",
       "      <td>Chicago</td>\n",
       "      <td>41.850029</td>\n",
       "      <td>-87.650047</td>\n",
       "      <td>Non-severe Weather</td>\n",
       "    </tr>\n",
       "  </tbody>\n",
       "</table>\n",
       "</div>"
      ],
      "text/plain": [
       "         Date and Time     Timestamp  Temperature  Humidity  Wind_Speed  \\\n",
       "0  2012-10-01 13:00:00  1.349114e+09       285.12      50.0         4.0   \n",
       "1  2012-10-01 13:00:00  1.349114e+09       294.03      94.0         3.0   \n",
       "2  2012-10-01 13:00:00  1.349114e+09       287.17      68.0         3.0   \n",
       "3  2012-10-01 13:00:00  1.349114e+09       288.65      87.0         4.0   \n",
       "4  2012-10-01 13:00:00  1.349114e+09       284.01      71.0         0.0   \n",
       "\n",
       "   Wind_Direction  Pressure Weather_Description  Year  Day sin       Day cos  \\\n",
       "0           360.0    1024.0        sky is clear  2012     -1.0 -3.741022e-12   \n",
       "1           110.0    1006.0          light rain  2012     -1.0 -3.741022e-12   \n",
       "2            60.0    1014.0        sky is clear  2012     -1.0 -3.741022e-12   \n",
       "3            70.0    1012.0                mist  2012     -1.0 -3.741022e-12   \n",
       "4             0.0    1014.0     overcast clouds  2012     -1.0 -3.741022e-12   \n",
       "\n",
       "   Year sin  Year cos         City   Latitude   Longitude      Severe_Weather  \n",
       "0 -0.999938  0.011112  Albuquerque  35.084492 -106.651138  Non-severe Weather  \n",
       "1 -0.999938  0.011112      Atlanta  33.749001  -84.387978  Non-severe Weather  \n",
       "2 -0.999938  0.011112       Boston  42.358429  -71.059769  Non-severe Weather  \n",
       "3 -0.999938  0.011112    Charlotte  35.227089  -80.843132  Non-severe Weather  \n",
       "4 -0.999938  0.011112      Chicago  41.850029  -87.650047  Non-severe Weather  "
      ]
     },
     "execution_count": 10,
     "metadata": {},
     "output_type": "execute_result"
    }
   ],
   "source": [
    "df = pd.read_csv(\"binary_classifier_dataset.csv\")\n",
    "df.head()"
   ]
  },
  {
   "cell_type": "code",
   "execution_count": 11,
   "metadata": {},
   "outputs": [],
   "source": [
    "selected_features = df[['Timestamp', 'Temperature', 'Humidity', 'Wind_Speed',\n",
    "        'Wind_Direction', 'Pressure', 'Year', 'Day sin',\n",
    "        'Day cos', 'Year sin', 'Year cos',\n",
    "        'Latitude', 'Longitude']]\n",
    "y = df[[\"Severe_Weather\"]]"
   ]
  },
  {
   "cell_type": "code",
   "execution_count": 12,
   "metadata": {},
   "outputs": [
    {
     "data": {
      "text/plain": [
       "(1157167,)"
      ]
     },
     "execution_count": 12,
     "metadata": {},
     "output_type": "execute_result"
    }
   ],
   "source": [
    "y = y.values.reshape(-1,)\n",
    "y.shape"
   ]
  },
  {
   "cell_type": "code",
   "execution_count": 13,
   "metadata": {},
   "outputs": [],
   "source": [
    "label_encoder = LabelEncoder()\n",
    "label_encoder.fit(y)\n",
    "encoded_y = label_encoder.transform(y)\n",
    "\n",
    "y_categorical = to_categorical(encoded_y)"
   ]
  },
  {
   "cell_type": "code",
   "execution_count": 14,
   "metadata": {},
   "outputs": [],
   "source": [
    "X_train, X_test, y_train_categorical, y_test_categorical = train_test_split(selected_features, y_categorical, test_size=0.20, random_state=42)"
   ]
  },
  {
   "cell_type": "code",
   "execution_count": 38,
   "metadata": {},
   "outputs": [
    {
     "data": {
      "text/html": [
       "<div>\n",
       "<style scoped>\n",
       "    .dataframe tbody tr th:only-of-type {\n",
       "        vertical-align: middle;\n",
       "    }\n",
       "\n",
       "    .dataframe tbody tr th {\n",
       "        vertical-align: top;\n",
       "    }\n",
       "\n",
       "    .dataframe thead th {\n",
       "        text-align: right;\n",
       "    }\n",
       "</style>\n",
       "<table border=\"1\" class=\"dataframe\">\n",
       "  <thead>\n",
       "    <tr style=\"text-align: right;\">\n",
       "      <th></th>\n",
       "      <th>Timestamp</th>\n",
       "      <th>Temperature</th>\n",
       "      <th>Humidity</th>\n",
       "      <th>Wind_Speed</th>\n",
       "      <th>Wind_Direction</th>\n",
       "      <th>Pressure</th>\n",
       "      <th>Year</th>\n",
       "      <th>Day sin</th>\n",
       "      <th>Day cos</th>\n",
       "      <th>Year sin</th>\n",
       "      <th>Year cos</th>\n",
       "      <th>Latitude</th>\n",
       "      <th>Longitude</th>\n",
       "    </tr>\n",
       "  </thead>\n",
       "  <tbody>\n",
       "    <tr>\n",
       "      <td>456053</td>\n",
       "      <td>1.414462e+09</td>\n",
       "      <td>297.5775</td>\n",
       "      <td>56.0</td>\n",
       "      <td>2.0</td>\n",
       "      <td>154.0</td>\n",
       "      <td>1030.0</td>\n",
       "      <td>2014</td>\n",
       "      <td>5.000000e-01</td>\n",
       "      <td>8.660254e-01</td>\n",
       "      <td>-0.897915</td>\n",
       "      <td>0.440168</td>\n",
       "      <td>33.749001</td>\n",
       "      <td>-84.387978</td>\n",
       "    </tr>\n",
       "    <tr>\n",
       "      <td>35644</td>\n",
       "      <td>1.354385e+09</td>\n",
       "      <td>272.7100</td>\n",
       "      <td>100.0</td>\n",
       "      <td>0.0</td>\n",
       "      <td>0.0</td>\n",
       "      <td>1030.0</td>\n",
       "      <td>2012</td>\n",
       "      <td>-1.000000e+00</td>\n",
       "      <td>-3.464640e-12</td>\n",
       "      <td>-0.488451</td>\n",
       "      <td>0.872591</td>\n",
       "      <td>42.358429</td>\n",
       "      <td>-71.059769</td>\n",
       "    </tr>\n",
       "    <tr>\n",
       "      <td>1067437</td>\n",
       "      <td>1.499263e+09</td>\n",
       "      <td>302.9000</td>\n",
       "      <td>17.0</td>\n",
       "      <td>1.0</td>\n",
       "      <td>237.0</td>\n",
       "      <td>1013.0</td>\n",
       "      <td>2017</td>\n",
       "      <td>-5.000000e-01</td>\n",
       "      <td>-8.660254e-01</td>\n",
       "      <td>-0.061527</td>\n",
       "      <td>-0.998105</td>\n",
       "      <td>36.174969</td>\n",
       "      <td>-115.137222</td>\n",
       "    </tr>\n",
       "    <tr>\n",
       "      <td>291533</td>\n",
       "      <td>1.391260e+09</td>\n",
       "      <td>273.2100</td>\n",
       "      <td>53.0</td>\n",
       "      <td>1.0</td>\n",
       "      <td>326.0</td>\n",
       "      <td>1025.0</td>\n",
       "      <td>2014</td>\n",
       "      <td>-2.588190e-01</td>\n",
       "      <td>-9.659258e-01</td>\n",
       "      <td>0.521415</td>\n",
       "      <td>0.853303</td>\n",
       "      <td>42.358429</td>\n",
       "      <td>-71.059769</td>\n",
       "    </tr>\n",
       "    <tr>\n",
       "      <td>859875</td>\n",
       "      <td>1.470398e+09</td>\n",
       "      <td>293.0000</td>\n",
       "      <td>93.0</td>\n",
       "      <td>1.0</td>\n",
       "      <td>293.0</td>\n",
       "      <td>1013.0</td>\n",
       "      <td>2016</td>\n",
       "      <td>5.074272e-12</td>\n",
       "      <td>-1.000000e+00</td>\n",
       "      <td>-0.562648</td>\n",
       "      <td>-0.826697</td>\n",
       "      <td>32.715328</td>\n",
       "      <td>-117.157257</td>\n",
       "    </tr>\n",
       "    <tr>\n",
       "      <td>...</td>\n",
       "      <td>...</td>\n",
       "      <td>...</td>\n",
       "      <td>...</td>\n",
       "      <td>...</td>\n",
       "      <td>...</td>\n",
       "      <td>...</td>\n",
       "      <td>...</td>\n",
       "      <td>...</td>\n",
       "      <td>...</td>\n",
       "      <td>...</td>\n",
       "      <td>...</td>\n",
       "      <td>...</td>\n",
       "      <td>...</td>\n",
       "    </tr>\n",
       "    <tr>\n",
       "      <td>110268</td>\n",
       "      <td>1.365505e+09</td>\n",
       "      <td>287.3300</td>\n",
       "      <td>87.0</td>\n",
       "      <td>0.0</td>\n",
       "      <td>0.0</td>\n",
       "      <td>1020.0</td>\n",
       "      <td>2013</td>\n",
       "      <td>2.588190e-01</td>\n",
       "      <td>-9.659258e-01</td>\n",
       "      <td>0.991164</td>\n",
       "      <td>-0.132640</td>\n",
       "      <td>35.227089</td>\n",
       "      <td>-80.843132</td>\n",
       "    </tr>\n",
       "    <tr>\n",
       "      <td>259178</td>\n",
       "      <td>1.386680e+09</td>\n",
       "      <td>279.4700</td>\n",
       "      <td>69.0</td>\n",
       "      <td>4.0</td>\n",
       "      <td>250.0</td>\n",
       "      <td>1015.0</td>\n",
       "      <td>2013</td>\n",
       "      <td>-2.588190e-01</td>\n",
       "      <td>-9.659258e-01</td>\n",
       "      <td>-0.355304</td>\n",
       "      <td>0.934751</td>\n",
       "      <td>40.714272</td>\n",
       "      <td>-74.005966</td>\n",
       "    </tr>\n",
       "    <tr>\n",
       "      <td>131932</td>\n",
       "      <td>1.368796e+09</td>\n",
       "      <td>284.2100</td>\n",
       "      <td>100.0</td>\n",
       "      <td>0.0</td>\n",
       "      <td>0.0</td>\n",
       "      <td>1004.0</td>\n",
       "      <td>2013</td>\n",
       "      <td>-2.588190e-01</td>\n",
       "      <td>-9.659258e-01</td>\n",
       "      <td>0.705143</td>\n",
       "      <td>-0.709065</td>\n",
       "      <td>42.358429</td>\n",
       "      <td>-71.059769</td>\n",
       "    </tr>\n",
       "    <tr>\n",
       "      <td>671155</td>\n",
       "      <td>1.444244e+09</td>\n",
       "      <td>295.5400</td>\n",
       "      <td>60.0</td>\n",
       "      <td>2.0</td>\n",
       "      <td>56.0</td>\n",
       "      <td>1021.0</td>\n",
       "      <td>2015</td>\n",
       "      <td>-9.659258e-01</td>\n",
       "      <td>2.588190e-01</td>\n",
       "      <td>-0.994747</td>\n",
       "      <td>0.102366</td>\n",
       "      <td>29.424120</td>\n",
       "      <td>-98.493629</td>\n",
       "    </tr>\n",
       "    <tr>\n",
       "      <td>121958</td>\n",
       "      <td>1.367233e+09</td>\n",
       "      <td>284.7200</td>\n",
       "      <td>93.0</td>\n",
       "      <td>2.0</td>\n",
       "      <td>310.0</td>\n",
       "      <td>1014.0</td>\n",
       "      <td>2013</td>\n",
       "      <td>2.588190e-01</td>\n",
       "      <td>-9.659258e-01</td>\n",
       "      <td>0.888336</td>\n",
       "      <td>-0.459194</td>\n",
       "      <td>38.627270</td>\n",
       "      <td>-90.197891</td>\n",
       "    </tr>\n",
       "  </tbody>\n",
       "</table>\n",
       "<p>925733 rows × 13 columns</p>\n",
       "</div>"
      ],
      "text/plain": [
       "            Timestamp  Temperature  Humidity  Wind_Speed  Wind_Direction  \\\n",
       "456053   1.414462e+09     297.5775      56.0         2.0           154.0   \n",
       "35644    1.354385e+09     272.7100     100.0         0.0             0.0   \n",
       "1067437  1.499263e+09     302.9000      17.0         1.0           237.0   \n",
       "291533   1.391260e+09     273.2100      53.0         1.0           326.0   \n",
       "859875   1.470398e+09     293.0000      93.0         1.0           293.0   \n",
       "...               ...          ...       ...         ...             ...   \n",
       "110268   1.365505e+09     287.3300      87.0         0.0             0.0   \n",
       "259178   1.386680e+09     279.4700      69.0         4.0           250.0   \n",
       "131932   1.368796e+09     284.2100     100.0         0.0             0.0   \n",
       "671155   1.444244e+09     295.5400      60.0         2.0            56.0   \n",
       "121958   1.367233e+09     284.7200      93.0         2.0           310.0   \n",
       "\n",
       "         Pressure  Year       Day sin       Day cos  Year sin  Year cos  \\\n",
       "456053     1030.0  2014  5.000000e-01  8.660254e-01 -0.897915  0.440168   \n",
       "35644      1030.0  2012 -1.000000e+00 -3.464640e-12 -0.488451  0.872591   \n",
       "1067437    1013.0  2017 -5.000000e-01 -8.660254e-01 -0.061527 -0.998105   \n",
       "291533     1025.0  2014 -2.588190e-01 -9.659258e-01  0.521415  0.853303   \n",
       "859875     1013.0  2016  5.074272e-12 -1.000000e+00 -0.562648 -0.826697   \n",
       "...           ...   ...           ...           ...       ...       ...   \n",
       "110268     1020.0  2013  2.588190e-01 -9.659258e-01  0.991164 -0.132640   \n",
       "259178     1015.0  2013 -2.588190e-01 -9.659258e-01 -0.355304  0.934751   \n",
       "131932     1004.0  2013 -2.588190e-01 -9.659258e-01  0.705143 -0.709065   \n",
       "671155     1021.0  2015 -9.659258e-01  2.588190e-01 -0.994747  0.102366   \n",
       "121958     1014.0  2013  2.588190e-01 -9.659258e-01  0.888336 -0.459194   \n",
       "\n",
       "          Latitude   Longitude  \n",
       "456053   33.749001  -84.387978  \n",
       "35644    42.358429  -71.059769  \n",
       "1067437  36.174969 -115.137222  \n",
       "291533   42.358429  -71.059769  \n",
       "859875   32.715328 -117.157257  \n",
       "...            ...         ...  \n",
       "110268   35.227089  -80.843132  \n",
       "259178   40.714272  -74.005966  \n",
       "131932   42.358429  -71.059769  \n",
       "671155   29.424120  -98.493629  \n",
       "121958   38.627270  -90.197891  \n",
       "\n",
       "[925733 rows x 13 columns]"
      ]
     },
     "execution_count": 38,
     "metadata": {},
     "output_type": "execute_result"
    }
   ],
   "source": [
    "X_train"
   ]
  },
  {
   "cell_type": "code",
   "execution_count": 15,
   "metadata": {},
   "outputs": [],
   "source": [
    "X_scaler = StandardScaler().fit(X_train)\n",
    "\n",
    "X_train_scaled = X_scaler.transform(X_train)\n",
    "X_test_scaled = X_scaler.transform(X_test)"
   ]
  },
  {
   "cell_type": "code",
   "execution_count": 16,
   "metadata": {},
   "outputs": [],
   "source": [
    "inputs = selected_features.shape[1]\n",
    "classes = len(df[\"Weather_Description\"].unique())\n",
    "\n",
    "model = Sequential()\n",
    "\n",
    "model.add(Dense(units=150, activation='relu', input_dim=inputs))\n",
    "model.add(Dense(units=300, activation='relu'))\n",
    "model.add(Dense(units=600, activation='relu'))\n",
    "model.add(Dense(units=300, activation='relu'))\n",
    "model.add(Dense(units=100, activation='relu'))\n",
    "model.add(Dense(units=2, activation='softmax'))"
   ]
  },
  {
   "cell_type": "code",
   "execution_count": 17,
   "metadata": {},
   "outputs": [],
   "source": [
    "model.compile(optimizer='adam',\n",
    "             loss='categorical_crossentropy',\n",
    "             metrics=['accuracy'])"
   ]
  },
  {
   "cell_type": "code",
   "execution_count": 18,
   "metadata": {},
   "outputs": [
    {
     "name": "stdout",
     "output_type": "stream",
     "text": [
      "Epoch 1/10\n",
      "WARNING:tensorflow:AutoGraph could not transform <function Model.make_train_function.<locals>.train_function at 0x000001B6435F73A8> and will run it as-is.\n",
      "Please report this to the TensorFlow team. When filing the bug, set the verbosity to 10 (on Linux, `export AUTOGRAPH_VERBOSITY=10`) and attach the full output.\n",
      "Cause: 'arguments' object has no attribute 'posonlyargs'\n",
      "To silence this warning, decorate the function with @tf.autograph.experimental.do_not_convert\n",
      "WARNING: AutoGraph could not transform <function Model.make_train_function.<locals>.train_function at 0x000001B6435F73A8> and will run it as-is.\n",
      "Please report this to the TensorFlow team. When filing the bug, set the verbosity to 10 (on Linux, `export AUTOGRAPH_VERBOSITY=10`) and attach the full output.\n",
      "Cause: 'arguments' object has no attribute 'posonlyargs'\n",
      "To silence this warning, decorate the function with @tf.autograph.experimental.do_not_convert\n",
      "28930/28930 - 101s - loss: 0.0957 - accuracy: 0.9756\n",
      "Epoch 2/10\n",
      "28930/28930 - 98s - loss: 0.0895 - accuracy: 0.9758\n",
      "Epoch 3/10\n",
      "28930/28930 - 96s - loss: 0.0872 - accuracy: 0.9761\n",
      "Epoch 4/10\n",
      "28930/28930 - 102s - loss: 0.0858 - accuracy: 0.9762\n",
      "Epoch 5/10\n",
      "28930/28930 - 130s - loss: 0.0849 - accuracy: 0.9764\n",
      "Epoch 6/10\n",
      "28930/28930 - 101s - loss: 0.0843 - accuracy: 0.9765\n",
      "Epoch 7/10\n",
      "28930/28930 - 96s - loss: 0.0840 - accuracy: 0.9767\n",
      "Epoch 8/10\n",
      "28930/28930 - 93s - loss: 0.0838 - accuracy: 0.9768\n",
      "Epoch 9/10\n",
      "28930/28930 - 92s - loss: 0.0830 - accuracy: 0.9768\n",
      "Epoch 10/10\n",
      "28930/28930 - 96s - loss: 0.0826 - accuracy: 0.9769\n"
     ]
    },
    {
     "data": {
      "text/plain": [
       "<tensorflow.python.keras.callbacks.History at 0x1b6435d6308>"
      ]
     },
     "execution_count": 18,
     "metadata": {},
     "output_type": "execute_result"
    }
   ],
   "source": [
    "model.fit(X_train_scaled,\n",
    "         y_train_categorical,\n",
    "         epochs=10,\n",
    "         shuffle=True,\n",
    "         verbose=2)"
   ]
  },
  {
   "cell_type": "code",
   "execution_count": 19,
   "metadata": {},
   "outputs": [
    {
     "name": "stdout",
     "output_type": "stream",
     "text": [
      "WARNING:tensorflow:AutoGraph could not transform <function Model.make_test_function.<locals>.test_function at 0x000001B642E974C8> and will run it as-is.\n",
      "Please report this to the TensorFlow team. When filing the bug, set the verbosity to 10 (on Linux, `export AUTOGRAPH_VERBOSITY=10`) and attach the full output.\n",
      "Cause: 'arguments' object has no attribute 'posonlyargs'\n",
      "To silence this warning, decorate the function with @tf.autograph.experimental.do_not_convert\n",
      "WARNING: AutoGraph could not transform <function Model.make_test_function.<locals>.test_function at 0x000001B642E974C8> and will run it as-is.\n",
      "Please report this to the TensorFlow team. When filing the bug, set the verbosity to 10 (on Linux, `export AUTOGRAPH_VERBOSITY=10`) and attach the full output.\n",
      "Cause: 'arguments' object has no attribute 'posonlyargs'\n",
      "To silence this warning, decorate the function with @tf.autograph.experimental.do_not_convert\n",
      "28930/28930 [==============================] - 41s 1ms/step - loss: 0.0805 - accuracy: 0.9774\n",
      "Training Data Score: [0.08048690855503082, 0.9774081707000732]\n",
      "7233/7233 [==============================] - 10s 1ms/step - loss: 0.0843 - accuracy: 0.9765\n",
      "Testing Data Score: [0.08433913439512253, 0.9765116572380066]\n"
     ]
    }
   ],
   "source": [
    "print(f\"Training Data Score: {model.evaluate(X_train_scaled, y_train_categorical)}\")\n",
    "print(f\"Testing Data Score: {model.evaluate(X_test_scaled, y_test_categorical)}\")"
   ]
  },
  {
   "cell_type": "code",
   "execution_count": 20,
   "metadata": {},
   "outputs": [],
   "source": [
    "model.save(\"binary_classifier.h5\")"
   ]
  },
  {
   "cell_type": "code",
   "execution_count": 21,
   "metadata": {},
   "outputs": [
    {
     "data": {
      "text/plain": [
       "['binary_classifier_scaler.joblib']"
      ]
     },
     "execution_count": 21,
     "metadata": {},
     "output_type": "execute_result"
    }
   ],
   "source": [
    "joblib.dump(X_scaler, \"binary_classifier_scaler.joblib\")"
   ]
  },
  {
   "cell_type": "code",
   "execution_count": 22,
   "metadata": {},
   "outputs": [
    {
     "data": {
      "text/plain": [
       "['binary_classifier_encoder.joblib']"
      ]
     },
     "execution_count": 22,
     "metadata": {},
     "output_type": "execute_result"
    }
   ],
   "source": [
    "joblib.dump(label_encoder, \"binary_classifier_encoder.joblib\")"
   ]
  },
  {
   "cell_type": "markdown",
   "metadata": {},
   "source": [
    "## Predictions"
   ]
  },
  {
   "cell_type": "code",
   "execution_count": 32,
   "metadata": {},
   "outputs": [],
   "source": [
    "model = keras.models.load_model(\"binary_classifier.h5\")\n",
    "scaler = joblib.load(\"binary_classifier_scaler.joblib\")\n",
    "encoder = joblib.load(\"binary_classifier_encoder.joblib\")"
   ]
  },
  {
   "cell_type": "code",
   "execution_count": 56,
   "metadata": {},
   "outputs": [
    {
     "data": {
      "text/plain": [
       "array(['Non-severe Weather'], dtype=object)"
      ]
     },
     "execution_count": 56,
     "metadata": {},
     "output_type": "execute_result"
    }
   ],
   "source": [
    "actual = np.argmax(y_test_categorical[0:10][0])\n",
    "label_encoder.inverse_transform([actual])"
   ]
  },
  {
   "cell_type": "code",
   "execution_count": 54,
   "metadata": {},
   "outputs": [
    {
     "data": {
      "text/plain": [
       "array([[-3.06610255e+01, -2.84560699e+01, -2.99764843e+00,\n",
       "        -1.27036383e+00, -1.73283018e+00, -6.59971083e+01,\n",
       "        -1.34296556e+03, -5.15316453e-01, -1.92965456e+00,\n",
       "         1.85869485e-01, -2.06300361e+00, -7.10926193e+00,\n",
       "         5.82289722e+00],\n",
       "       [-3.06610255e+01, -2.85387201e+01, -2.92925593e+00,\n",
       "        -7.86839832e-01, -1.74604819e+00, -6.59551162e+01,\n",
       "        -1.34385538e+03, -9.97833851e-01,  1.73307307e+00,\n",
       "        -1.62030675e+00,  9.58845993e-01, -7.01026947e+00,\n",
       "         5.90507929e+00],\n",
       "       [-3.06610255e+01, -2.84882448e+01, -3.01718915e+00,\n",
       "        -1.75388783e+00, -1.75832205e+00, -6.60013075e+01,\n",
       "        -1.34341047e+03,  1.41715792e+00, -1.41218245e+00,\n",
       "        -7.24609558e-01,  1.79652764e+00, -7.34949037e+00,\n",
       "         5.79634096e+00],\n",
       "       [-3.06610255e+01, -2.83750410e+01, -2.91362335e+00,\n",
       "        -1.51212583e+00, -1.75142981e+00, -6.59215224e+01,\n",
       "        -1.34385538e+03, -1.41218093e+00, -1.41218245e+00,\n",
       "         5.71150530e-01, -2.00730356e+00, -7.64254502e+00,\n",
       "         5.91576308e+00],\n",
       "       [-3.06610256e+01, -2.85304623e+01, -2.95856700e+00,\n",
       "        -1.02860183e+00, -1.73188604e+00, -6.59719130e+01,\n",
       "        -1.34474519e+03,  2.00313319e+00,  1.57764718e-03,\n",
       "         1.93743904e+00,  7.20778361e-01, -6.80883913e+00,\n",
       "         5.75791497e+00],\n",
       "       [-3.06610256e+01, -2.84228810e+01, -2.96833736e+00,\n",
       "        -1.75388783e+00, -1.75416782e+00, -6.59551162e+01,\n",
       "        -1.34430028e+03, -1.99815620e+00,  1.57764716e-03,\n",
       "        -1.87300734e+00, -2.10157702e-01, -7.34949037e+00,\n",
       "         5.79634096e+00],\n",
       "       [-3.06610255e+01, -2.85290973e+01, -2.94098036e+00,\n",
       "        -1.02860183e+00, -1.74132747e+00, -6.59971083e+01,\n",
       "        -1.34385538e+03, -5.15316453e-01, -1.92965456e+00,\n",
       "        -1.85227869e+00,  2.94377200e-01, -7.01026947e+00,\n",
       "         5.90507929e+00],\n",
       "       [-3.06610255e+01, -2.84419422e+01, -2.89017450e+00,\n",
       "        -7.86839832e-01, -1.75633935e+00, -6.60013075e+01,\n",
       "        -1.34341047e+03, -1.92998588e+00, -5.15894462e-01,\n",
       "        -1.83323460e+00,  3.94259456e-01, -7.37489731e+00,\n",
       "         5.85353167e+00],\n",
       "       [-3.06610256e+01, -2.83941575e+01, -2.93511814e+00,\n",
       "        -7.86839832e-01, -1.74793648e+00, -6.59635146e+01,\n",
       "        -1.34430028e+03,  2.48849565e-03,  2.00093635e+00,\n",
       "        -8.97378948e-01, -1.78882583e+00, -7.07202456e+00,\n",
       "         5.93894182e+00],\n",
       "       [-3.06610256e+01, -2.83518361e+01, -2.89799078e+00,\n",
       "        -1.51212583e+00, -1.75350692e+00, -6.59341201e+01,\n",
       "        -1.34430028e+03, -1.41218093e+00,  1.41533774e+00,\n",
       "        -1.55580776e+00, -1.15048631e+00, -7.15172182e+00,\n",
       "         5.87828778e+00]])"
      ]
     },
     "execution_count": 54,
     "metadata": {},
     "output_type": "execute_result"
    }
   ],
   "source": [
    "data = scaler.transform(X_test_scaled[0:10])\n",
    "data"
   ]
  },
  {
   "cell_type": "code",
   "execution_count": 55,
   "metadata": {},
   "outputs": [
    {
     "data": {
      "text/plain": [
       "array(['Non-severe Weather'], dtype=object)"
      ]
     },
     "execution_count": 55,
     "metadata": {},
     "output_type": "execute_result"
    }
   ],
   "source": [
    "prediction = model.predict(data)\n",
    "chosen = np.argmax(prediction)\n",
    "label_encoder.inverse_transform([chosen])"
   ]
  },
  {
   "cell_type": "code",
   "execution_count": null,
   "metadata": {},
   "outputs": [],
   "source": []
  }
 ],
 "metadata": {
  "kernelspec": {
   "display_name": "Python 3",
   "language": "python",
   "name": "python3"
  },
  "language_info": {
   "codemirror_mode": {
    "name": "ipython",
    "version": 3
   },
   "file_extension": ".py",
   "mimetype": "text/x-python",
   "name": "python",
   "nbconvert_exporter": "python",
   "pygments_lexer": "ipython3",
   "version": "3.7.4"
  }
 },
 "nbformat": 4,
 "nbformat_minor": 2
}
