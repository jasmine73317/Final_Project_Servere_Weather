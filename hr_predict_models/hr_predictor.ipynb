{
 "cells": [
  {
   "cell_type": "code",
   "execution_count": 2,
   "metadata": {},
   "outputs": [],
   "source": [
    "import pandas as pd\n",
    "import numpy as np\n",
    "from sklearn.preprocessing import StandardScaler, LabelEncoder\n",
    "from tensorflow.keras.utils import to_categorical\n",
    "from sklearn.linear_model import LinearRegression\n",
    "from sklearn.metrics import mean_absolute_error\n",
    "import math\n",
    "import joblib"
   ]
  },
  {
   "cell_type": "code",
   "execution_count": 3,
   "metadata": {},
   "outputs": [],
   "source": [
    "df = pd.read_csv(\"classifier_dataset.csv\")"
   ]
  },
  {
   "cell_type": "code",
   "execution_count": 4,
   "metadata": {},
   "outputs": [],
   "source": [
    "df[f\"hr-predict-Temp\"] = df[\"Temperature\"].shift(-26, axis=0)\n",
    "df[f\"hr-predict-Humidity\"] = df[\"Humidity\"].shift(-26, axis=0)\n",
    "df[f\"hr-predict-WNDSPD\"] = df[\"Wind_Speed\"].shift(-26, axis=0)\n",
    "df[f\"hr-predict-WNDDIR\"] = df[\"Wind_Direction\"].shift(-26, axis=0)\n",
    "df[f\"hr-predict-Pressure\"] = df[\"Pressure\"].shift(-26, axis=0)\n"
   ]
  },
  {
   "cell_type": "code",
   "execution_count": 5,
   "metadata": {},
   "outputs": [],
   "source": [
    "for x in np.arange(1, 109):\n",
    "    shift_distance = x*26\n",
    "    df[f\"{x}-hrs-ago-Temp\"] = df[\"Temperature\"].shift(shift_distance, axis=0)\n",
    "    df[f\"{x}-hrs-ago-Humidity\"] = df[\"Humidity\"].shift(shift_distance, axis=0)\n",
    "    df[f\"{x}-hrs-ago-WNDSPD\"] = df[\"Wind_Speed\"].shift(shift_distance, axis=0)\n",
    "    df[f\"{x}-hrs-ago-WNDDIR\"] = df[\"Wind_Direction\"].shift(shift_distance, axis=0)\n",
    "    df[f\"{x}-hrs-ago-Pressure\"] = df[\"Pressure\"].shift(shift_distance, axis=0)"
   ]
  },
  {
   "cell_type": "code",
   "execution_count": 6,
   "metadata": {},
   "outputs": [],
   "source": [
    "without_previous_data = 108 * 26\n",
    "without_future_data = -1 * 26\n",
    "\n",
    "df = df.iloc[without_previous_data:without_future_data,:]"
   ]
  },
  {
   "cell_type": "code",
   "execution_count": 7,
   "metadata": {},
   "outputs": [],
   "source": [
    "features = ['Timestamp', 'Temperature', 'Humidity', 'Wind_Speed',\n",
    "    'Wind_Direction', 'Pressure', 'Year', 'Day sin', 'Day cos', 'Year sin', 'Year cos',\n",
    "    'Latitude', 'Longitude']\n",
    "\n",
    "for x in np.arange(1, 109):\n",
    "    features.append(f\"{x}-hrs-ago-Temp\")\n",
    "    features.append(f\"{x}-hrs-ago-Humidity\")\n",
    "    features.append(f\"{x}-hrs-ago-WNDSPD\")\n",
    "    features.append(f\"{x}-hrs-ago-WNDDIR\")\n",
    "    features.append(f\"{x}-hrs-ago-Pressure\")"
   ]
  },
  {
   "cell_type": "code",
   "execution_count": null,
   "metadata": {},
   "outputs": [],
   "source": [
    "selected_features = df[features]\n",
    "\n",
    "y = df[['hr-predict-Temp']]\n",
    "# y = df[['hr-predict-Humidity']]\n",
    "# y = df[['hr-predict-WNDSPD']]\n",
    "# y = df[['hr-predict-WNDDIR']]\n",
    "# y = df[['hr-predict-Pressure']] "
   ]
  },
  {
   "cell_type": "code",
   "execution_count": 8,
   "metadata": {},
   "outputs": [
    {
     "data": {
      "text/plain": [
       "(1154333, 1)"
      ]
     },
     "execution_count": 8,
     "metadata": {},
     "output_type": "execute_result"
    }
   ],
   "source": [
    "y = y.values.reshape(-1,1)\n",
    "y.shape"
   ]
  },
  {
   "cell_type": "code",
   "execution_count": 9,
   "metadata": {},
   "outputs": [],
   "source": [
    "length = math.floor(len(df)*0.8)\n",
    "X_train = selected_features[:length]\n",
    "y_train = y[:length]\n",
    "X_test = selected_features[length:]\n",
    "y_test = y[length:]"
   ]
  },
  {
   "cell_type": "code",
   "execution_count": 10,
   "metadata": {},
   "outputs": [],
   "source": [
    "X_scaler = StandardScaler().fit(X_train)\n",
    "y_scaler = StandardScaler().fit(y_train)\n",
    "\n",
    "X_train_scaled = X_scaler.transform(X_train)\n",
    "X_test_scaled = X_scaler.transform(X_test)\n",
    "y_train_scaled = y_scaler.transform(y_train)\n",
    "y_test_scaled = y_scaler.transform(y_test)"
   ]
  },
  {
   "cell_type": "code",
   "execution_count": 11,
   "metadata": {},
   "outputs": [],
   "source": [
    "model = joblib.load(\"time_cycles/hr_temp_predict_model.h5\")\n",
    "# model = joblib.load(\"time_cycles/hr_humidity_predict_model.h5\")\n",
    "# model = joblib.load(\"time_cycles/hr_wind_sp_predict_model.h5\")\n",
    "# model = joblib.load(\"time_cycles/hr_wind_dr_predict_model.h5\")\n",
    "# model = joblib.load(\"time_cycles/hr_pressure_predict_model.h5\")"
   ]
  },
  {
   "cell_type": "code",
   "execution_count": 15,
   "metadata": {},
   "outputs": [],
   "source": [
    "predictions = model.predict(X_test_scaled[0:10])"
   ]
  },
  {
   "cell_type": "code",
   "execution_count": 21,
   "metadata": {},
   "outputs": [
    {
     "name": "stdout",
     "output_type": "stream",
     "text": [
      "[288.88744887]\n",
      "[292.72]\n"
     ]
    }
   ],
   "source": [
    "print(y_scaler.inverse_transform(predictions)[0])\n",
    "print(y_scaler.inverse_transform(y_test_scaled[0:10])[0])"
   ]
  },
  {
   "cell_type": "code",
   "execution_count": null,
   "metadata": {},
   "outputs": [],
   "source": []
  }
 ],
 "metadata": {
  "kernelspec": {
   "display_name": "Python 3",
   "language": "python",
   "name": "python3"
  },
  "language_info": {
   "codemirror_mode": {
    "name": "ipython",
    "version": 3
   },
   "file_extension": ".py",
   "mimetype": "text/x-python",
   "name": "python",
   "nbconvert_exporter": "python",
   "pygments_lexer": "ipython3",
   "version": "3.7.4"
  }
 },
 "nbformat": 4,
 "nbformat_minor": 2
}
